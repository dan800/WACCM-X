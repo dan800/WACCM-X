{
 "cells": [
  {
   "cell_type": "markdown",
   "metadata": {},
   "source": [
    "/glade/u/home/fvitt/cesm/cesm2.1.1\n",
    "\n",
    "The mad X SD compset:\n",
    "    FXmadSD              : HIST_CAM40%WXIED%SDYN_CLM40%SP_CICE%PRES_DOCN%DOM_RTM_SGLC_SWAV\n",
    "\n",
    "./create_newcase --res f19_f19 --compset FXmadSD --case /glade/work/marsh/FX/f.e20.FXmadSD.f19_f19.001 --run-unsupported\n",
    "\n",
    "note should read e21!\n",
    "\n",
    "./xmlquery STOP_N,REST_N,STOP_OPTION,REST_OPTION,STOP_DATE,REST_DATE,CONTINUE_RUN,BUILD_COMPLETE,RESUBMIT,RUN_TYPE,RUN_STARTDATE,RUN_REFCASE,RUN_REFDATE,JOB_WALLCLOCK_TIME,JOB_QUEUE,GET_REFCASE,PROJECT,CIMEROOT\n",
    "\n",
    "\n",
    "Results in group build_status\n",
    "        BUILD_COMPLETE: TRUE\n",
    "\n",
    "Results in group case.run\n",
    "        JOB_WALLCLOCK_TIME: 12:00:00\n",
    "        JOB_QUEUE: regular\n",
    "        PROJECT: P93300007\n",
    "\n",
    "Results in group case.st_archive\n",
    "        JOB_WALLCLOCK_TIME: 0:20:00\n",
    "        JOB_QUEUE: share\n",
    "        PROJECT: P93300007\n",
    "\n",
    "Results in group case_def\n",
    "        CIMEROOT: /glade/work/fvitt/cesm/cesm2.1.1/cime\n",
    "\n",
    "Results in group run_begin_stop_restart\n",
    "        STOP_N: 5\n",
    "        REST_N: 5\n",
    "        STOP_OPTION: ndays\n",
    "        REST_OPTION: ndays\n",
    "        STOP_DATE: -999\n",
    "        REST_DATE: -999\n",
    "        CONTINUE_RUN: FALSE\n",
    "        RESUBMIT: 0\n",
    "        RUN_TYPE: startup\n",
    "        RUN_STARTDATE: 2000-01-01\n",
    "        RUN_REFCASE: case.std\n",
    "        RUN_REFDATE: 0001-01-01\n",
    "        GET_REFCASE: FALSE\n",
    "\n",
    "\n",
    "./xmlchange JOB_WALLCLOCK_TIME=4:00:00"
   ]
  }
 ],
 "metadata": {
  "kernelspec": {
   "display_name": "Pangeo (2019.09.12 - py3.7)",
   "language": "python",
   "name": "pangeo-2019.09.12"
  },
  "language_info": {
   "codemirror_mode": {
    "name": "ipython",
    "version": 3
   },
   "file_extension": ".py",
   "mimetype": "text/x-python",
   "name": "python",
   "nbconvert_exporter": "python",
   "pygments_lexer": "ipython3",
   "version": "3.7.3"
  }
 },
 "nbformat": 4,
 "nbformat_minor": 4
}
